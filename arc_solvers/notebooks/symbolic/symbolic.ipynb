{
 "cells": [
  {
   "cell_type": "markdown",
   "metadata": {},
   "source": [
    "# Symbolic Rule Experiment"
   ]
  },
  {
   "cell_type": "code",
   "execution_count": 13,
   "metadata": {},
   "outputs": [
    {
     "name": "stdout",
     "output_type": "stream",
     "text": [
      "The autoreload extension is already loaded. To reload it, use:\n",
      "  %reload_ext autoreload\n"
     ]
    }
   ],
   "source": [
    "# If these imports fail, try running \"pip install -e .\" from \n",
    "# parent directory (There will be a setup.py in parent directory)\n",
    "from arc_solvers.notebooks.symbolic.utils import *\n",
    "\n",
    "%load_ext autoreload\n",
    "%autoreload 2"
   ]
  },
  {
   "cell_type": "code",
   "execution_count": 14,
   "metadata": {},
   "outputs": [],
   "source": [
    "#CONFIG PARAMETERS\n",
    "QA_FILE_PATH = \"data/ARC-V1-Feb2018/ARC-Challenge/ARC-Challenge-Train.jsonl\""
   ]
  },
  {
   "cell_type": "code",
   "execution_count": 15,
   "metadata": {},
   "outputs": [],
   "source": [
    "# reading data into a json list\n",
    "json_dataset = qa_to_jsonl(QA_FILE_PATH)"
   ]
  },
  {
   "cell_type": "code",
   "execution_count": 16,
   "metadata": {},
   "outputs": [
    {
     "name": "stdout",
     "output_type": "stream",
     "text": [
      "id : ACTAAP_2010_7_1\n",
      "\n",
      "Question\n",
      "What makes solar energy different from most other energy that people use?\n",
      "\n",
      "Choices\n",
      "A : Solar energy involves the most dangerous equipment. \n",
      "B : Solar energy requires the most complicated technology. \n",
      "C : The supply of solar energy will not change for billions of years. \n",
      "D : The supply of solar energy causes it to be the cheapest kind of energy. \n",
      "\n",
      "Correct option : C\n"
     ]
    }
   ],
   "source": [
    "# selecting a random sample or a sample by id\n",
    "# sample = get_sample(json_dataset, id='Mercury_401790')\n",
    "sample = get_sample(json_dataset)  # this select a random sample\n",
    "print_sample(sample)"
   ]
  },
  {
   "cell_type": "code",
   "execution_count": 17,
   "metadata": {},
   "outputs": [],
   "source": [
    "# define the rule in here (correctness of rule is user dependent)\n",
    "# support a list of rules.\n",
    "# following is a regex type rule.\n",
    "rule = [\n",
    "    '[wW]hat.*?','[hH]ow.*?'\n",
    "]"
   ]
  },
  {
   "cell_type": "code",
   "execution_count": 18,
   "metadata": {},
   "outputs": [
    {
     "name": "stdout",
     "output_type": "stream",
     "text": [
      "Following are the hypothesis generated for each choice: \n",
      "\n",
      "\n",
      "A : Solar energy involves the most dangerous equipment makes solar energy different from most other energy that people use. \n",
      "\n",
      "B : Solar energy requires the most complicated technology makes solar energy different from most other energy that people use. \n",
      "\n",
      "C : The supply of solar energy will not change for billions of years makes solar energy different from most other energy that people use. \n",
      "\n",
      "D : The supply of solar energy causes it to be the cheapest kind of energy makes solar energy different from most other energy that people use. \n",
      "\n"
     ]
    }
   ],
   "source": [
    "# Reformulate Sample\n",
    "rsample = get_reformulated_sample(\n",
    "    sample, formulation_type='prog_q2a', rule=rule)\n",
    "# Note here prog_q2a doesnot require rule, \n",
    "# and that is passed extrenously \n",
    "# (i_e it not need but doesnot do any harm)\n",
    "print(\"Following are the hypothesis generated for each choice: \\n\\n\")\n",
    "for choice in rsample['question']['choices']:\n",
    "    print(f\"{choice['label']} : {choice['hypothesis']} \\n\")"
   ]
  },
  {
   "cell_type": "markdown",
   "metadata": {},
   "source": [
    "Once, we are done with generating choices we can check what kind of supporting text is generated for each of the choices. For this we require to access elastic search. \n",
    "(TODO: configuration of which elastic search to connect can be added in this script)"
   ]
  },
  {
   "cell_type": "code",
   "execution_count": 21,
   "metadata": {},
   "outputs": [
    {
     "name": "stdout",
     "output_type": "stream",
     "text": [
      "[{'id': 'ACTAAP_2010_7_1', 'question': {'stem': 'What makes solar energy different from most other energy that people use?', 'choice': {'text': 'Solar energy involves the most dangerous equipment.', 'label': 'A', 'hypothesis': 'Solar energy involves the most dangerous equipment makes solar energy different from most other energy that people use.'}, 'support': {'text': 'Most humans use solar energy.', 'type': 'sentence', 'ir_pos': 0, 'ir_score': 48.799564}}, 'answerKey': 'C'}, {'id': 'ACTAAP_2010_7_1', 'question': {'stem': 'What makes solar energy different from most other energy that people use?', 'choice': {'text': 'Solar energy involves the most dangerous equipment.', 'label': 'A', 'hypothesis': 'Solar energy involves the most dangerous equipment makes solar energy different from most other energy that people use.'}, 'support': {'text': 'Most plants use solar energy.', 'type': 'sentence', 'ir_pos': 1, 'ir_score': 48.72047}}, 'answerKey': 'C'}, {'id': 'ACTAAP_2010_7_1', 'question': {'stem': 'What makes solar energy different from most other energy that people use?', 'choice': {'text': 'Solar energy involves the most dangerous equipment.', 'label': 'A', 'hypothesis': 'Solar energy involves the most dangerous equipment makes solar energy different from most other energy that people use.'}, 'support': {'text': 'Most photosynthesis uses solar energy.', 'type': 'sentence', 'ir_pos': 2, 'ir_score': 48.586563}}, 'answerKey': 'C'}, {'id': 'ACTAAP_2010_7_1', 'question': {'stem': 'What makes solar energy different from most other energy that people use?', 'choice': {'text': 'Solar energy involves the most dangerous equipment.', 'label': 'A', 'hypothesis': 'Solar energy involves the most dangerous equipment makes solar energy different from most other energy that people use.'}, 'support': {'text': 'Most natural enzymes use solar energy.', 'type': 'sentence', 'ir_pos': 3, 'ir_score': 46.547283}}, 'answerKey': 'C'}, {'id': 'ACTAAP_2010_7_1', 'question': {'stem': 'What makes solar energy different from most other energy that people use?', 'choice': {'text': 'Solar energy involves the most dangerous equipment.', 'label': 'A', 'hypothesis': 'Solar energy involves the most dangerous equipment makes solar energy different from most other energy that people use.'}, 'support': {'text': 'Types of solar energy There are two types of solar energy today, one is called active solar energy and other is passive solar energy.', 'type': 'sentence', 'ir_pos': 4, 'ir_score': 45.606583}}, 'answerKey': 'C'}, {'id': 'ACTAAP_2010_7_1', 'question': {'stem': 'What makes solar energy different from most other energy that people use?', 'choice': {'text': 'Solar energy involves the most dangerous equipment.', 'label': 'A', 'hypothesis': 'Solar energy involves the most dangerous equipment makes solar energy different from most other energy that people use.'}, 'support': {'text': 'Most of the solar energy that falls on the earth is not used by plants.', 'type': 'sentence', 'ir_pos': 5, 'ir_score': 44.704308}}, 'answerKey': 'C'}, {'id': 'ACTAAP_2010_7_1', 'question': {'stem': 'What makes solar energy different from most other energy that people use?', 'choice': {'text': 'Solar energy involves the most dangerous equipment.', 'label': 'A', 'hypothesis': 'Solar energy involves the most dangerous equipment makes solar energy different from most other energy that people use.'}, 'support': {'text': 'Most solar energy creates heat.', 'type': 'sentence', 'ir_pos': 6, 'ir_score': 44.655647}}, 'answerKey': 'C'}, {'id': 'ACTAAP_2010_7_1', 'question': {'stem': 'What makes solar energy different from most other energy that people use?', 'choice': {'text': 'Solar energy involves the most dangerous equipment.', 'label': 'A', 'hypothesis': 'Solar energy involves the most dangerous equipment makes solar energy different from most other energy that people use.'}, 'support': {'text': 'BIOLOGY Solar Energy Solar Energy is the energy harnessed directly from the sun.', 'type': 'sentence', 'ir_pos': 7, 'ir_score': 44.59964}}, 'answerKey': 'C'}]\n"
     ]
    }
   ],
   "source": [
    "es_result = get_support_text(rsample, label='A')\n",
    "print_supporting_text(es_result)"
   ]
  },
  {
   "cell_type": "code",
   "execution_count": null,
   "metadata": {},
   "outputs": [],
   "source": []
  }
 ],
 "metadata": {
  "kernelspec": {
   "display_name": "Python 3",
   "language": "python",
   "name": "python3"
  },
  "language_info": {
   "codemirror_mode": {
    "name": "ipython",
    "version": 3
   },
   "file_extension": ".py",
   "mimetype": "text/x-python",
   "name": "python",
   "nbconvert_exporter": "python",
   "pygments_lexer": "ipython3",
   "version": "3.6.8"
  }
 },
 "nbformat": 4,
 "nbformat_minor": 2
}
