{
 "cells": [
  {
   "cell_type": "markdown",
   "metadata": {},
   "source": [
    "# Symbolic Rule Experiment"
   ]
  },
  {
   "cell_type": "code",
   "execution_count": 1,
   "metadata": {},
   "outputs": [],
   "source": [
    "# If these imports fail, try running \"pip install -e .\" from \n",
    "# parent directory (There will be a setup.py in parent directory)\n",
    "from arc_solvers.notebooks.symbolic.utils import *\n",
    "\n",
    "%load_ext autoreload\n",
    "%autoreload 2"
   ]
  },
  {
   "cell_type": "code",
   "execution_count": 2,
   "metadata": {},
   "outputs": [],
   "source": [
    "#CONFIG PARAMETERS\n",
    "QA_FILE_PATH = \"data/ARC-V1-Feb2018/ARC-Challenge/ARC-Challenge-Train.jsonl\""
   ]
  },
  {
   "cell_type": "code",
   "execution_count": 3,
   "metadata": {},
   "outputs": [],
   "source": [
    "# reading data into a json list\n",
    "json_dataset = qa_to_jsonl(QA_FILE_PATH)"
   ]
  },
  {
   "cell_type": "code",
   "execution_count": 4,
   "metadata": {},
   "outputs": [
    {
     "name": "stdout",
     "output_type": "stream",
     "text": [
      "id : MCAS_2002_8_13\n",
      "\n",
      "Question\n",
      "Why do areas in the middle of a large continent generally have more extreme differences in temperature than areas near the coastline?\n",
      "\n",
      "Choices\n",
      "A : There are generally more clouds near the oceans. \n",
      "B : Landlocked areas are usually at a lower altitude than coastline areas. \n",
      "C : Coastlines are usually surrounded by mountains that block air masses. \n",
      "D : Oceans change temperature slowly and regulate the temperature of nearby land. \n",
      "\n",
      "Correct option : D\n"
     ]
    }
   ],
   "source": [
    "# selecting a random sample or a sample by id\n",
    "# sample = get_sample(json_dataset, id='Mercury_401790')\n",
    "sample = get_sample(json_dataset)  # this select a random sample\n",
    "print_sample(sample)"
   ]
  },
  {
   "cell_type": "code",
   "execution_count": 5,
   "metadata": {},
   "outputs": [],
   "source": [
    "# define the rule in here (correctness of rule is user dependent)\n",
    "# support a list of rules.\n",
    "# following is a regex type rule.\n",
    "rule = [\n",
    "    '[wW]hat.*?','[hH]ow.*?'\n",
    "]"
   ]
  },
  {
   "cell_type": "code",
   "execution_count": 6,
   "metadata": {},
   "outputs": [
    {
     "name": "stdout",
     "output_type": "stream",
     "text": [
      "Following are the hypothesis generated for each choice: \n",
      "\n",
      "\n",
      "A : There are generally more clouds near the oceans do areas in the middle of a large continent generally have more extreme differences in temperature than areas near the coastline. \n",
      "\n",
      "B : Landlocked areas are usually at a lower altitude than coastline areas do areas in the middle of a large continent generally have more extreme differences in temperature than areas near the coastline. \n",
      "\n",
      "C : Coastlines are usually surrounded by mountains that block air masses do areas in the middle of a large continent generally have more extreme differences in temperature than areas near the coastline. \n",
      "\n",
      "D : Oceans change temperature slowly and regulate the temperature of nearby land do areas in the middle of a large continent generally have more extreme differences in temperature than areas near the coastline. \n",
      "\n"
     ]
    }
   ],
   "source": [
    "# Reformulate Sample\n",
    "rsample = get_reformulated_sample(\n",
    "    sample, formulation_type='prog_q2a', rule=rule)\n",
    "# Note here prog_q2a doesnot require rule, \n",
    "# and that is passed extrenously \n",
    "# (i_e it not need but doesnot do any harm)\n",
    "print(\"Following are the hypothesis generated for each choice: \\n\\n\")\n",
    "for choice in rsample['question']['choices']:\n",
    "    print(f\"{choice['label']} : {choice['new_query']} \\n\")"
   ]
  },
  {
   "cell_type": "markdown",
   "metadata": {},
   "source": [
    "Once, we are done with generating choices we can check what kind of supporting text is generated for each of the choices. For this we require to access elastic search. \n",
    "(TODO: configuration of which elastic search to connect can be added in this script)"
   ]
  },
  {
   "cell_type": "code",
   "execution_count": 7,
   "metadata": {},
   "outputs": [
    {
     "name": "stdout",
     "output_type": "stream",
     "text": [
      "Score : 44.05649 | Text : Near-shore areas are generally more productive.\n",
      "Score : 33.350765 | Text : It is generally found in coastal areas or near bodies of freshwater, and four different subspecies are recognised.\n",
      "Score : 33.22279 | Text : These are generally restricted to an area of not more than one centimetre broad.\n",
      "Score : 32.58764 | Text : Organisms living at or near the surface are impacted more than others in the area.\n",
      "Score : 32.46532 | Text : Heaths tolerate more heat than do heathers and are generally good choices for Southern regions, though they dislike extremely humid areas.\n",
      "Score : 31.731178 | Text : Generally, economic development in eastern areas is more advanced than in western areas, and the urban economy is more prosperous than the rural economy.\n",
      "Score : 31.314394 | Text : This area is more contentious than the area of temporal stability, mostly because some have tried generalizing the findings of the temporal stability models and theory to stability in general.\n",
      "Score : 31.111551 | Text : Animals that do inhabit polar regions generally live near the polar oceans\n"
     ]
    }
   ],
   "source": [
    "es_result = get_support_text(rsample, label='A')\n",
    "print_supporting_text(es_result)"
   ]
  },
  {
   "cell_type": "code",
   "execution_count": null,
   "metadata": {},
   "outputs": [],
   "source": []
  }
 ],
 "metadata": {
  "kernelspec": {
   "display_name": "Python 3",
   "language": "python",
   "name": "python3"
  },
  "language_info": {
   "codemirror_mode": {
    "name": "ipython",
    "version": 3
   },
   "file_extension": ".py",
   "mimetype": "text/x-python",
   "name": "python",
   "nbconvert_exporter": "python",
   "pygments_lexer": "ipython3",
   "version": "3.6.8"
  }
 },
 "nbformat": 4,
 "nbformat_minor": 2
}
